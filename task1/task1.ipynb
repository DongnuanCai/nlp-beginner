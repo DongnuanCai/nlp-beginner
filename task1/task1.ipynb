{
 "cells": [
  {
   "cell_type": "code",
   "execution_count": 1,
   "metadata": {},
   "outputs": [],
   "source": [
    "import numpy as np\n",
    "import pandas as pd\n",
    "import datacleaning\n",
    "import warnings\n",
    "\n",
    "warnings.filterwarnings(\"ignore\")                     #忽略不必要的警告\n",
    "\n",
    "train = pd.read_csv(\"D:\\\\QQ\\\\NLP-beginer\\\\task1\\\\dataset\\\\train.tsv\",sep='\\t')\n",
    "test = pd.read_csv(\"D:\\\\QQ\\\\NLP-beginer\\\\task1\\\\dataset\\\\test.tsv\",sep='\\t')\n"
   ]
  },
  {
   "cell_type": "code",
   "execution_count": 2,
   "metadata": {},
   "outputs": [],
   "source": [
    "from bs4 import BeautifulSoup\n",
    "import  re\n",
    "import nltk\n",
    "from nltk.tokenize import word_tokenize\n",
    "from nltk.corpus import stopwords\n",
    "from nltk.stem import WordNetLemmatizer\n",
    "import pandas as pd\n",
    "import BOW\n",
    "import NG\n",
    "import softmaxregression\n",
    "\n",
    "test_clean=pd.DataFrame(datacleaning.clean(test))\n",
    "test_clean.columns=['dataclean']\n",
    "train_clean=pd.DataFrame(datacleaning.clean(train))\n",
    "train_clean.columns=['dataclean']"
   ]
  },
  {
   "cell_type": "code",
   "execution_count": 3,
   "metadata": {},
   "outputs": [],
   "source": [
    "train_df=pd.concat([train,train_clean],axis=1)\n",
    "test_df=pd.concat([test,test_clean],axis=1)\n",
    "\n",
    "train_x=train_df['dataclean']\n",
    "train_y=train_df['Sentiment']\n",
    "\n",
    "test_x=test_df['dataclean']"
   ]
  },
  {
   "cell_type": "code",
   "execution_count": 4,
   "metadata": {},
   "outputs": [],
   "source": [
    "from sklearn.model_selection import StratifiedShuffleSplit\n",
    "\n",
    "# 设置分层抽样的参数\n",
    "n_splits = 1\n",
    "test_size = 0.3\n",
    "random_state = 42\n",
    "\n",
    "# 创建 StratifiedShuffleSplit 对象\n",
    "stratified_split = StratifiedShuffleSplit(n_splits=n_splits, test_size=test_size, random_state=random_state)\n",
    "\n",
    "# 进行分层抽样\n",
    "for train_index, val_index in stratified_split.split(train_x,train_y):\n",
    "    X_train, X_val = train_x[train_index], train_x[val_index]\n",
    "    y_train, y_val = train_y[train_index], train_y[val_index]\n"
   ]
  },
  {
   "cell_type": "code",
   "execution_count": 5,
   "metadata": {},
   "outputs": [
    {
     "name": "stdout",
     "output_type": "stream",
     "text": [
      "0         a series of escapade demonstrating the adage t...\n",
      "1         a series of escapade demonstrating the adage t...\n",
      "2                                                  a series\n",
      "3                                                         a\n",
      "4                                                    series\n",
      "                                ...                        \n",
      "156055                                             hearst s\n",
      "156056                             forced avuncular chortle\n",
      "156057                                    avuncular chortle\n",
      "156058                                            avuncular\n",
      "156059                                              chortle\n",
      "Name: dataclean, Length: 156060, dtype: object\n",
      "0         1\n",
      "1         2\n",
      "2         2\n",
      "3         2\n",
      "4         2\n",
      "         ..\n",
      "156055    2\n",
      "156056    1\n",
      "156057    3\n",
      "156058    2\n",
      "156059    2\n",
      "Name: Sentiment, Length: 156060, dtype: int64\n"
     ]
    }
   ],
   "source": [
    "print(train_x)\n",
    "print(train_y)"
   ]
  },
  {
   "cell_type": "code",
   "execution_count": 6,
   "metadata": {},
   "outputs": [],
   "source": [
    "bow=BOW.BagofWords()\n",
    "df_xb=bow.transform(X_train)"
   ]
  },
  {
   "cell_type": "code",
   "execution_count": 7,
   "metadata": {},
   "outputs": [],
   "source": [
    "ngram=NG.Ngram(3)\n",
    "df_xn=ngram.N_Gram(X_train)"
   ]
  },
  {
   "cell_type": "code",
   "execution_count": 8,
   "metadata": {},
   "outputs": [],
   "source": [
    "softmax_bow=softmaxregression.softmax_regression(5)\n",
    "softmax_ngram=softmaxregression.softmax_regression(5)"
   ]
  },
  {
   "cell_type": "code",
   "execution_count": 9,
   "metadata": {},
   "outputs": [],
   "source": [
    "softmax_bow.softmax(df_xb,y_train,X_val,y_val)"
   ]
  },
  {
   "cell_type": "code",
   "execution_count": null,
   "metadata": {},
   "outputs": [],
   "source": [
    "X=df_xb\n",
    "Y=y_train\n",
    "epoch=100\n",
    "batchsize=32\n",
    "num_classes=5\n",
    "lr=0.01"
   ]
  },
  {
   "cell_type": "code",
   "execution_count": null,
   "metadata": {},
   "outputs": [],
   "source": [
    "samples, features = X.shape\n",
    "W = np.zeros((features, num_classes))\n",
    "\n",
    "for _ in range(epoch):\n",
    "    indices = np.random.permutation(samples)\n",
    "    for start in range(0, samples, batchsize):\n",
    "        end = min(start + batchsize, samples)\n",
    "        batch_indices = indices[start:end]\n",
    "        X_batch = X[batch_indices]\n",
    "        y_batch = Y.values[batch_indices]\n",
    "        for i in range(len(batch_indices)):\n",
    "            xi = X_batch[i]\n",
    "            yi = y_batch[i]\n",
    "            scores = np.dot(xi, W)\n",
    "            print(scores)\n",
    "            exp_scores = np.exp(scores - np.amax(scores, axis=1, keepdims=True))  # 数值稳定性\n",
    "            probs = exp_scores / np.sum(exp_scores)\n",
    "            loss_grad = xi.reshape(-1, 1) @ ((probs - (yi == np.arange(num_classes))) / batchsize)\n",
    "            W -= lr * loss_grad"
   ]
  }
 ],
 "metadata": {
  "kernelspec": {
   "display_name": "d2l",
   "language": "python",
   "name": "python3"
  },
  "language_info": {
   "codemirror_mode": {
    "name": "ipython",
    "version": 3
   },
   "file_extension": ".py",
   "mimetype": "text/x-python",
   "name": "python",
   "nbconvert_exporter": "python",
   "pygments_lexer": "ipython3",
   "version": "3.9.17"
  }
 },
 "nbformat": 4,
 "nbformat_minor": 2
}
